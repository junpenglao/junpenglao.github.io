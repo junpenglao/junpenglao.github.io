{
 "cells": [
  {
   "cell_type": "markdown",
   "metadata": {},
   "source": [
    "# Marginal Likelihood in Python\n"
   ]
  },
  {
   "cell_type": "code",
   "execution_count": null,
   "metadata": {},
   "outputs": [],
   "source": [
    "import sympy\n",
    "\n",
    "sympy.init_printing()\n",
    "\n",
    "x = sympy.Symbol('x', positive=True)\n",
    "s = sympy.Symbol('s', positive=True)\n",
    "\n",
    "cauchy = 2 / (sympy.pi * (1 + x ** 2))\n",
    "normal = 2 / sympy.sqrt(2*sympy.pi) * sympy.exp(-x**2 / 2)\n",
    "\n",
    "hs = sympy.integrate(normal * cauchy.subs({x: s / x}) / x, (x, 0, sympy.oo))\n",
    "hs"
   ]
  },
  {
   "cell_type": "code",
   "execution_count": 5,
   "metadata": {},
   "outputs": [
    {
     "name": "stdout",
     "output_type": "stream",
     "text": [
      " alpha - 1         beta - 1\n",
      "z         *(-z + 1)        \n",
      "---------------------------\n",
      "     beta(alpha, beta)     \n"
     ]
    },
    {
     "data": {
      "text/plain": [
       "alpha/(alpha + beta)"
      ]
     },
     "execution_count": 5,
     "metadata": {},
     "output_type": "execute_result"
    }
   ],
   "source": [
    "from sympy.stats import Beta, Binomial, density, E, variance\n",
    "from sympy import Symbol, simplify, pprint, expand_func\n",
    "\n",
    "alpha = Symbol(\"alpha\", positive=True)\n",
    "beta = Symbol(\"beta\", positive=True)\n",
    "z = Symbol(\"z\")\n",
    "theta = Beta(\"theta\", alpha, beta)\n",
    "D = density(theta)(z)\n",
    "pprint(D, use_unicode=False)\n",
    "expand_func(simplify(E(theta, meijerg=True)))"
   ]
  },
  {
   "cell_type": "code",
   "execution_count": null,
   "metadata": {},
   "outputs": [],
   "source": []
  },
  {
   "cell_type": "code",
   "execution_count": null,
   "metadata": {},
   "outputs": [],
   "source": [
    "normal = 1 / sympy.sqrt(2*sympy.pi) * sympy.exp(-x**2 / 2)"
   ]
  },
  {
   "cell_type": "code",
   "execution_count": null,
   "metadata": {},
   "outputs": [],
   "source": [
    "x = sympy.Symbol('x')\n",
    "normal = 1 / sympy.sqrt(2*sympy.pi) * sympy.exp(-x**2 / 2)\n",
    "sympy.integrate(normal, (x, -sympy.oo, sympy.oo))"
   ]
  },
  {
   "cell_type": "code",
   "execution_count": null,
   "metadata": {},
   "outputs": [],
   "source": [
    "n = sympy.Symbol('n', integer=True, positive=True)\n",
    "k = sympy.Symbol('k', integer=True, positive=True)\n",
    "a = b = 1.\n",
    "p = .25\n",
    "pr = sympy.binomial(n, k)*(p**k)*(1-p)**(n-k)\n",
    "pr"
   ]
  },
  {
   "cell_type": "code",
   "execution_count": null,
   "metadata": {},
   "outputs": [],
   "source": [
    "sympy.summation(pr*k, (k, 0, 20), (n, 20, 20))"
   ]
  },
  {
   "cell_type": "code",
   "execution_count": null,
   "metadata": {},
   "outputs": [],
   "source": [
    "a = .5\n",
    "b = 1.\n",
    "p = x**(a-1)*(1-x)**(b-1)/sympy.beta(a, b)\n",
    "n = 10\n",
    "k = sympy.Symbol('k', positive=True)\n",
    "pr = sympy.binomial(n, k)*(p**k)*(1-p)**(n-k)\n",
    "sympy.integrate(pr.subs({x: k}), (x, 0, n))"
   ]
  },
  {
   "cell_type": "code",
   "execution_count": null,
   "metadata": {
    "scrolled": false
   },
   "outputs": [],
   "source": [
    "a = 1.\n",
    "b = 3.\n",
    "n = 20\n",
    "k = sympy.Symbol('k', integer=True, positive=True)\n",
    "p = sympy.binomial(n, k)*sympy.beta(k+a, n-k+b)/sympy.beta(a, b)\n",
    "sympy.summation(p*k, (k, 0, 20))"
   ]
  },
  {
   "cell_type": "code",
   "execution_count": null,
   "metadata": {
    "scrolled": false
   },
   "outputs": [],
   "source": [
    "x = sympy.Symbol('x', positive=True)\n",
    "a = 1.#sympy.Symbol('alpha', positive=True)\n",
    "b = 1.#sympy.Symbol('beta', positive=True)\n",
    "beta = (x**(a-1))*((1-x)**(b-1))/sympy.beta(a, b)\n",
    "sympy.integrate(beta*x, (x, 0, 1))"
   ]
  },
  {
   "cell_type": "code",
   "execution_count": null,
   "metadata": {},
   "outputs": [],
   "source": [
    "sympy.beta(1, 1)"
   ]
  }
 ],
 "metadata": {
  "kernelspec": {
   "display_name": "Python 3",
   "language": "python",
   "name": "python3"
  },
  "language_info": {
   "codemirror_mode": {
    "name": "ipython",
    "version": 3
   },
   "file_extension": ".py",
   "mimetype": "text/x-python",
   "name": "python",
   "nbconvert_exporter": "python",
   "pygments_lexer": "ipython3",
   "version": "3.5.2"
  }
 },
 "nbformat": 4,
 "nbformat_minor": 2
}
